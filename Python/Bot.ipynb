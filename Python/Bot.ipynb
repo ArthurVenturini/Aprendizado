{
 "cells": [
  {
   "cell_type": "code",
   "execution_count": 2,
   "metadata": {},
   "outputs": [],
   "source": [
    "import os\n",
    "import sys\n",
    "import linecache\n",
    "# bibliotecas usadas para pegar as linhas dos arquivos;\n",
    "# biblioteca os usada para navegar entre as pastas do sistema\n",
    "# biblioteca sys usada para abrir e escrever nos arquivos\n",
    "# biblioteca linecache usada para pagar uma linha especifica do arquivo"
   ]
  },
  {
   "cell_type": "code",
   "execution_count": 7,
   "metadata": {},
   "outputs": [],
   "source": [
    "for diretorio, subpastas, arquivos in os.walk('./'):\n",
    " #Loop usado para entrar em todas as pastas e subpastas que vão ser usadas\n",
    "    for arquivo in arquivos:\n",
    "    #Loop usado para abrir todos os arquivos\n",
    "        if arquivo.endswith(\".txt\"):\n",
    "        #Condição para abrir apenas os arquivos log.txt e não entrar em outros arquivos\n",
    "            particular_line = linecache.getline(os.path.join(diretorio, arquivo), 26)\n",
    "            #Função utilizada para pegar a linha 26 de cada arquivo, que é onde se encontra o dado que vai ser utilizado. \n",
    "            dado = open('../Dataframe.txt','a')\n",
    "            dado.write(os.path.join(diretorio, arquivo))\n",
    "            dado.close()\n",
    "            dado = open('../Dataframe.txt','a')\n",
    "            dado.write(particular_line)\n",
    "            dado.close()\n",
    "            #Função que escreve em um arquivo de texto a pasta onde foi achado o arquivo e a linha que foi buscada\n",
    "\n"
   ]
  }
 ],
 "metadata": {
  "kernelspec": {
   "display_name": "Python 3.9.7 ('base')",
   "language": "python",
   "name": "python3"
  },
  "language_info": {
   "codemirror_mode": {
    "name": "ipython",
    "version": 3
   },
   "file_extension": ".py",
   "mimetype": "text/x-python",
   "name": "python",
   "nbconvert_exporter": "python",
   "pygments_lexer": "ipython3",
   "version": "3.9.7"
  },
  "orig_nbformat": 4,
  "vscode": {
   "interpreter": {
    "hash": "e38bdacfe1d6e2b7e20a64d2eef782d7715e4314dc541be72f500d3c69b94a4f"
   }
  }
 },
 "nbformat": 4,
 "nbformat_minor": 2
}
